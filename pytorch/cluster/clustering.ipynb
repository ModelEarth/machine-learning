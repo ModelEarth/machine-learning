{
 "cells": [
  {
   "cell_type": "code",
   "execution_count": 2,
   "id": "aec2eb7c-6e76-430c-a9b8-e538ca16fc8b",
   "metadata": {},
   "outputs": [
    {
     "ename": "ModuleNotFoundError",
     "evalue": "No module named 'matplotlib'",
     "output_type": "error",
     "traceback": [
      "\u001b[0;31m---------------------------------------------------------------------------\u001b[0m",
      "\u001b[0;31mModuleNotFoundError\u001b[0m                       Traceback (most recent call last)",
      "Cell \u001b[0;32mIn[2], line 4\u001b[0m\n\u001b[1;32m      2\u001b[0m \u001b[38;5;28;01mimport\u001b[39;00m \u001b[38;5;21;01mos\u001b[39;00m\n\u001b[1;32m      3\u001b[0m \u001b[38;5;28;01mimport\u001b[39;00m \u001b[38;5;21;01msklearn\u001b[39;00m\n\u001b[0;32m----> 4\u001b[0m \u001b[38;5;28;01mimport\u001b[39;00m \u001b[38;5;21;01mmatplotlib\u001b[39;00m\u001b[38;5;21;01m.\u001b[39;00m\u001b[38;5;21;01mpyplot\u001b[39;00m \u001b[38;5;28;01mas\u001b[39;00m \u001b[38;5;21;01mplt\u001b[39;00m\n\u001b[1;32m      5\u001b[0m \u001b[38;5;28;01mimport\u001b[39;00m \u001b[38;5;21;01mnumpy\u001b[39;00m \u001b[38;5;28;01mas\u001b[39;00m \u001b[38;5;21;01mnp\u001b[39;00m\n",
      "\u001b[0;31mModuleNotFoundError\u001b[0m: No module named 'matplotlib'"
     ]
    }
   ],
   "source": [
    "import json\n",
    "import os\n",
    "import sklearn\n",
    "import matplotlib.pyplot as plt\n",
    "import numpy as np"
   ]
  },
  {
   "cell_type": "markdown",
   "id": "ece4c140-e27c-4a49-9268-f24e1ed67f7c",
   "metadata": {},
   "source": [
    "Read state folders with version 1.0"
   ]
  },
  {
   "cell_type": "code",
   "execution_count": null,
   "id": "e4cdb558-4a43-47be-bf7a-22fdab92f0c5",
   "metadata": {},
   "outputs": [],
   "source": [
    "state_folders = [item for item in os.listdir(os.getcwd()) if os.path.isdir(item) and item[-3:]==\"1.0\"]\n",
    "state_folders"
   ]
  },
  {
   "cell_type": "markdown",
   "id": "a8ec6702-6c84-4bba-9d88-2c7afe6c1839",
   "metadata": {},
   "source": [
    "For each state we extract information from matrix.D for subsequent clustering, and reshape the 2D matrix into an 1D vector"
   ]
  },
  {
   "cell_type": "code",
   "execution_count": null,
   "id": "70360120-acf9-4c02-adef-cf71352c42be",
   "metadata": {},
   "outputs": [],
   "source": [
    "data_all = []\n",
    "for state_folder in state_folders:\n",
    "    json_file_path = os.path.join(state_folder, 'matrix', 'D.json')\n",
    "    with open(json_file_path, 'r') as file:\n",
    "        data = json.load(file)\n",
    "    data_all.append(np.array(data).reshape(-1))\n",
    "data_all = np.array(data_all)\n",
    "data_all"
   ]
  },
  {
   "cell_type": "code",
   "execution_count": null,
   "id": "1e11e2f3-3ed7-4699-8f69-48e2ac7c02d8",
   "metadata": {},
   "outputs": [],
   "source": [
    "data_all.shape"
   ]
  },
  {
   "cell_type": "markdown",
   "id": "bed6a0ad-738c-437c-93ad-26c5fa348954",
   "metadata": {},
   "source": [
    "Reduce the dimension from 2336 to 3 of each vetorized D-matrix with PCA"
   ]
  },
  {
   "cell_type": "code",
   "execution_count": null,
   "id": "493a0e1b-6829-4cdc-a74f-36db8ba60998",
   "metadata": {},
   "outputs": [],
   "source": [
    "from sklearn.decomposition import PCA\n",
    "n_components = 3\n",
    "\n",
    "# Create a PCA instance with the desired number of components\n",
    "pca = PCA(n_components=n_components)\n",
    "\n",
    "# Fit the PCA model and transform the original array\n",
    "data_reduced = pca.fit_transform(data_all)"
   ]
  },
  {
   "cell_type": "code",
   "execution_count": null,
   "id": "18fd1b4f-4884-4955-bb95-624c06897122",
   "metadata": {},
   "outputs": [],
   "source": [
    "data_reduced"
   ]
  },
  {
   "cell_type": "markdown",
   "id": "a8692c23-8054-4805-a979-9058948b1a5b",
   "metadata": {},
   "source": [
    "Assigning 3 clusters, using the dimension-reduced vectorized D-matrix to cluster all these five states"
   ]
  },
  {
   "cell_type": "code",
   "execution_count": null,
   "id": "09ea0e8c-5317-4cb2-9312-853d3e25cfec",
   "metadata": {},
   "outputs": [],
   "source": [
    "from sklearn.cluster import KMeans\n",
    "n_clusters = 3\n",
    "kmeans = KMeans(n_clusters=n_clusters, random_state=42)\n",
    "kmeans.fit(data_reduced)\n",
    "cluster_labels = kmeans.labels_\n",
    "print(\"Cluster labels:\", cluster_labels)"
   ]
  },
  {
   "cell_type": "code",
   "execution_count": null,
   "id": "17d0f565-f9f6-4b40-b444-28953a140e82",
   "metadata": {},
   "outputs": [],
   "source": [
    "cluster_result = dict(zip(state_folders, cluster_labels))\n",
    "cluster_result"
   ]
  },
  {
   "cell_type": "code",
   "execution_count": null,
   "id": "089430ca-4bba-409c-8b68-8c56c10b35b5",
   "metadata": {},
   "outputs": [],
   "source": []
  },
  {
   "cell_type": "code",
   "execution_count": null,
   "id": "c323c35d-3b6d-4aea-a116-0897417cb5e2",
   "metadata": {},
   "outputs": [],
   "source": []
  }
 ],
 "metadata": {
  "kernelspec": {
   "display_name": "Python 3 (ipykernel)",
   "language": "python",
   "name": "python3"
  },
  "language_info": {
   "codemirror_mode": {
    "name": "ipython",
    "version": 3
   },
   "file_extension": ".py",
   "mimetype": "text/x-python",
   "name": "python",
   "nbconvert_exporter": "python",
   "pygments_lexer": "ipython3",
   "version": "3.8.5"
  }
 },
 "nbformat": 4,
 "nbformat_minor": 5
}
